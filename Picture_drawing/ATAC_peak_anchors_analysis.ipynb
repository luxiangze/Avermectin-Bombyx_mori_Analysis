{
 "cells": [
  {
   "cell_type": "code",
   "execution_count": 1,
   "metadata": {},
   "outputs": [],
   "source": [
    "# import standard python libraries\n",
    "import numpy as np\n",
    "import matplotlib.pyplot as plt\n",
    "import pandas as pd\n",
    "import seaborn as sns"
   ]
  },
  {
   "cell_type": "code",
   "execution_count": null,
   "metadata": {},
   "outputs": [],
   "source": [
    "# Read differential contacts data that has produced by selfish\n",
    "contacts = pd.read_table(\"/home/gyk/project/lw_hic_snHiC/12_Grouped_analyses/G_Differential_contacts_analyses_SELFISH/Ava_vs_DZ/Ava_vs_DZ_1kb_SELFISH.txt\", header=0)\n",
    "contacts.head()"
   ]
  },
  {
   "cell_type": "code",
   "execution_count": null,
   "metadata": {},
   "outputs": [],
   "source": [
    "# Read ATAC differential peaks data\n",
    "atac = pd.read_table(\"/home/gyk/project/lw_atac_nf/analysis/results/DZ_Ava_diff_consensus_peaks.bed\", header=0)\n",
    "atac['mid'] = (atac['End']+atac['Start'])//2\n",
    "atac.head()"
   ]
  },
  {
   "cell_type": "code",
   "execution_count": null,
   "metadata": {},
   "outputs": [],
   "source": [
    "# filter contacts accoding to peak mid location\n",
    "filtered_contacts = pd.DataFrame()\n",
    "for i in atac.itertuples():\n",
    "    for j in contacts.itertuples():\n",
    "        if (i.mid >= j.LOC1_start and i.mid <= j.LOC1_end) or (i.mid >= j.LOC2_start and i.mid <= j.LOC2_end):\n",
    "            combined_row = {**i._asdict(), **j._asdict()}\n",
    "            filtered_contacts = pd.concat([filtered_contacts, pd.DataFrame([combined_row])], ignore_index=True)\n",
    "\n",
    "print(len(filtered_contacts[\"_5\"].unique()))\n",
    "filtered_contacts.head()"
   ]
  },
  {
   "cell_type": "code",
   "execution_count": null,
   "metadata": {},
   "outputs": [],
   "source": [
    "print(len(filtered_contacts[\"_5\"].unique()))\n",
    "geneid = filtered_contacts[\"_5\"].unique()\n",
    "geneid = pd.DataFrame(geneid, columns=[\"Unique_Values\"])\n",
    "geneid.to_csv(\"ATAC_HiC_geneid.csv\", index=False, sep=\"\\t\", header=False)\n",
    "frenquency = filtered_contacts[\"CHR1\"].value_counts()\n",
    "frenquency.sort_index(ascending=False)\n",
    "frenquency"
   ]
  },
  {
   "cell_type": "code",
   "execution_count": null,
   "metadata": {},
   "outputs": [],
   "source": [
    "# Setting CNS Style\n",
    "sns.set_theme(style=\"whitegrid\", palette=\"muted\")\n",
    "\n",
    "# Plotting frequency histograms\n",
    "plt.figure(figsize=(8, 6))\n",
    "sns.barplot(x=frenquency.index, y=frenquency.values, palette=\"muted\")\n",
    "\n",
    "plt.xlabel(\"Chr\")\n",
    "plt.ylabel('Number of contacts')\n",
    "plt.title('')\n",
    "# plt.xticks(rotation=45, ha='right')\n",
    "plt.tight_layout()\n",
    "# Save the chart\n",
    "# plt.savefig(\"analysis/results/promoter_distance_frequency.pdf\", dpi=720, bbox_inches=\"tight\")\n",
    "# Show chart\n",
    "plt.show()"
   ]
  }
 ],
 "metadata": {
  "kernelspec": {
   "display_name": "seaborn",
   "language": "python",
   "name": "python3"
  },
  "language_info": {
   "codemirror_mode": {
    "name": "ipython",
    "version": 3
   },
   "file_extension": ".py",
   "mimetype": "text/x-python",
   "name": "python",
   "nbconvert_exporter": "python",
   "pygments_lexer": "ipython3",
   "version": "3.13.1"
  }
 },
 "nbformat": 4,
 "nbformat_minor": 2
}
